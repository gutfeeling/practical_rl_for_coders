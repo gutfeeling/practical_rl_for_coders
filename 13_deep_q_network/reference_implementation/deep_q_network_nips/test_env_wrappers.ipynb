{
 "cells": [
  {
   "cell_type": "code",
   "execution_count": 1,
   "metadata": {},
   "outputs": [],
   "source": [
    "import gym\n",
    "from env_wrappers import PongNIPSWrapper"
   ]
  },
  {
   "cell_type": "code",
   "execution_count": 2,
   "metadata": {},
   "outputs": [],
   "source": [
    "env = gym.make(\"PongNoFrameskip-v4\")\n",
    "wrapped_env = PongNIPSWrapper(env)"
   ]
  },
  {
   "cell_type": "code",
   "execution_count": 3,
   "metadata": {},
   "outputs": [
    {
     "name": "stdout",
     "output_type": "stream",
     "text": [
      "3\n"
     ]
    }
   ],
   "source": [
    "print(wrapped_env.action_space.n)"
   ]
  },
  {
   "cell_type": "code",
   "execution_count": 4,
   "metadata": {},
   "outputs": [
    {
     "data": {
      "text/plain": [
       "0"
      ]
     },
     "execution_count": 4,
     "metadata": {},
     "output_type": "execute_result"
    }
   ],
   "source": [
    "wrapped_env.action_space.sample()"
   ]
  },
  {
   "cell_type": "code",
   "execution_count": 6,
   "metadata": {},
   "outputs": [
    {
     "name": "stdout",
     "output_type": "stream",
     "text": [
      "[array([[ 74,  74,  74, ...,  74,  74,  74],\n",
      "       [107, 107, 107, ..., 107, 107, 107],\n",
      "       [107, 107, 107, ..., 107, 107, 107],\n",
      "       ...,\n",
      "       [107, 107, 107, ..., 107, 107, 107],\n",
      "       [107, 107, 107, ..., 107, 107, 107],\n",
      "       [107, 107, 107, ..., 107, 107, 107]], dtype=uint8), array([[236, 236, 236, ..., 236, 236, 236],\n",
      "       [ 87,  87,  87, ...,  87,  87,  87],\n",
      "       [ 87,  87,  87, ...,  87,  87,  87],\n",
      "       ...,\n",
      "       [ 87,  87,  87, ...,  87,  87,  87],\n",
      "       [ 87,  87,  87, ...,  87,  87,  87],\n",
      "       [ 87,  87,  87, ...,  87,  87,  87]], dtype=uint8), array([[236, 236, 236, ..., 236, 236, 236],\n",
      "       [ 87,  87,  87, ...,  87,  87,  87],\n",
      "       [ 87,  87,  87, ...,  87,  87,  87],\n",
      "       ...,\n",
      "       [ 87,  87,  87, ...,  87,  87,  87],\n",
      "       [ 87,  87,  87, ...,  87,  87,  87],\n",
      "       [ 87,  87,  87, ...,  87,  87,  87]], dtype=uint8), array([[236, 236, 236, ..., 236, 236, 236],\n",
      "       [ 87,  87,  87, ...,  87,  87,  87],\n",
      "       [ 87,  87,  87, ...,  87,  87,  87],\n",
      "       ...,\n",
      "       [ 87,  87,  87, ...,  87,  87,  87],\n",
      "       [ 87,  87,  87, ...,  87,  87,  87],\n",
      "       [ 87,  87,  87, ...,  87,  87,  87]], dtype=uint8)]\n"
     ]
    }
   ],
   "source": [
    "observation = wrapped_env.reset()\n",
    "print(observation)"
   ]
  },
  {
   "cell_type": "code",
   "execution_count": null,
   "metadata": {},
   "outputs": [],
   "source": []
  }
 ],
 "metadata": {
  "kernelspec": {
   "display_name": "Python 3",
   "language": "python",
   "name": "python3"
  },
  "language_info": {
   "codemirror_mode": {
    "name": "ipython",
    "version": 3
   },
   "file_extension": ".py",
   "mimetype": "text/x-python",
   "name": "python",
   "nbconvert_exporter": "python",
   "pygments_lexer": "ipython3",
   "version": "3.5.2"
  }
 },
 "nbformat": 4,
 "nbformat_minor": 2
}
